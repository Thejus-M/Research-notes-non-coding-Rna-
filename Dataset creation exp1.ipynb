{
 "cells": [
  {
   "cell_type": "code",
   "execution_count": 1,
   "id": "a36f129b",
   "metadata": {},
   "outputs": [],
   "source": [
    "\n",
    "from Bio import SeqIO"
   ]
  },
  {
   "cell_type": "code",
   "execution_count": 14,
   "id": "a78273b0",
   "metadata": {},
   "outputs": [
    {
     "name": "stdout",
     "output_type": "stream",
     "text": [
      "ATGCTGCTGCTCGTCGTC\n",
      "TTTATATATAAGTGTAGTAGA\n",
      "GGGCGCGCGAGATAATATATTAT\n",
      "CGCTACGTCTTACGCTGGAGCTCTCATGGATCGGTTCGGTAGGGCTCGATCACATCGCTAGCCAT\n",
      "4\n"
     ]
    }
   ],
   "source": [
    "count = 0\n",
    "for seq_record in SeqIO.parse(\"test.fa\", \"fasta\"):\n",
    "    print(seq_record.seq)\n",
    "#     print(orf)\n",
    "    count = count + 1\n",
    "print(count)"
   ]
  },
  {
   "cell_type": "code",
   "execution_count": null,
   "id": "0909455f",
   "metadata": {},
   "outputs": [],
   "source": []
  },
  {
   "cell_type": "code",
   "execution_count": null,
   "id": "9d9b88f6",
   "metadata": {},
   "outputs": [],
   "source": []
  },
  {
   "cell_type": "code",
   "execution_count": null,
   "id": "e06e9e63",
   "metadata": {},
   "outputs": [],
   "source": []
  },
  {
   "cell_type": "code",
   "execution_count": 5,
   "id": "9efb3130",
   "metadata": {},
   "outputs": [
    {
     "data": {
      "text/plain": [
       "(['snce_1', 'sequence_2', 'sequence_3', '3', 'realone'],\n",
       " ['ATGCTGCTGCTCGTCGTC',\n",
       "  'TTTATATATAAGTGTAGTAGA',\n",
       "  'GGGCGCGCGAGATAATATATTAT',\n",
       "  'CGCTACGTCTTACGCTGGAGCTCTCATGGATCGGTTCGGTAGGGCTCGATCACATCGCTAGCCAT',\n",
       "  'GTTAACTTGCCGTCAGCCTTTTCTTTGACCTCTTCTTTCTGTTCATGTGTATTTGCTGTCTCTTAGCCCAGACTTCCCGTGTCCTTTCCACCGGGCCTTTGAGAGGTCACAGGGTCTTGATGCTGTGGTCTTCATCTGCAGGTGTCTGACTTCCAGCAACTGCTGGCCTGTGCCAGGGTGCAAGCTGAGCACTGGAGTGGAGTTTTCCTGTGGAGAGGAGCCATGCCTAGAGTGGGATGGGCCATTGTTCATCTTCTGGCCCCTGTTGTCTGCATGTAACTTAATACCACAACCAGGCATAGGGGAAAGATTGGAGGAAAGATGAGTGAGAGCATCAACTTCTCTCACAACCTAGGCCAGTGTGTGGTGATGCCAGGCATGCCCTTCCCCAGCATCAGGTCTCCAGAGCTGCAGAAGACGACGGCCGACTTGGATCACACTCTTGTGAGTGTCCCCAGTGTTGCAGAGGCAGGGCCATCAGGCACCAAAGGGATTCTGCCAGCATAGTGCTCCTGGACCAGTGATACACCCGGCACCCTGTCCTGGACACGCTGTTGGCCTGGATCTGAGCCCTGGTGGAGGTCAAAGCCACCTTTGGTTCTGCCATTGCTGCTGTGTGGAAGTTCACTCCTGCCTTTTCCTTTCCCTAGAGCCTCCACCACCCCGAGATCACATTTCTCACTGCCTTTTGTCTGCCCAGTTTCACCAGAAGTAGGCCTCTTCCTGACAGGCAGCTGCACCACTGCCTGGCGCTGTGCCCTTCCTTTGCTCTGCCCGCTGGAGACGGTGTTTGTCATGGGCCTGGTCTGCAGGGATCCTGCTACAAAGGTGAAACCCAGGAGAGTGTGGAGTCCAGAGTGTTGCCAGGACCCAGGCACAGGCATTAGTGCCCGTTGGAGAAAACAGGGGAATCCCGAAGAAATGGTGGGTCCTGGCCATCCGTGAGATCTTCCCAGGGCAGCTCCCCTCTGTGGAATCCAATCTGTCTTCCATCCTGCGTGGCCGAGGGCCAGGCTTCTCACTGGGCCTCTGCAGGAGGCTGCCATTTGTCCTGCCCACCTTCTTAGAAGCGAGACGGAGCAGACCCATCTGCTACTGCCCTTTCTATAATAACTAAAGTTAGCTGCCCTGGACTATTCACCCCCTAGTCTCAATTTAAGAAGATCCCCATGGCCACAGGGCCCCTGCCTGGGGGCTTGTCACCTCCCCCACCTTCTTCCTGAGTCATTCCTGCAGCCTTGCTCCCTAACCTGCCCCACAGCCTTGCCTGGATTTCTATCTCCCTGGCTTGGTGCCAGTTCCTCCAAGTCGATGGCACCTCCCTCCCTCTCAACCACTTGAGCAAACTCCAAGACATCTTCTACCCCAACACCAGCAATTGTGCCAAGGGCCATTAGGCTCTCAGCATGACTATTTTTAGAGACCCCGTGTCTGTCACTGAAACCTTTTTTGTGGGAGACTATTCCTCCCATCTGCAACAGCTGCCCCTGCTGACTGCCCTTCTCTCCTCCCTCTCATCCCAGAGAAACAGGTCAGCTGGGAGCTTCTGCCCCCACTGCCTAGGGACCAACAGGGGCAGGAGGCAGTCACTGACCCCGAGACGTTTGCATCCTGCACAGCTAGAGATCCTTTATTAAAAGCACACTGTTGGTTTCTG'])"
      ]
     },
     "execution_count": 5,
     "metadata": {},
     "output_type": "execute_result"
    }
   ],
   "source": [
    "readfile('test.fa')"
   ]
  },
  {
   "cell_type": "code",
   "execution_count": 4,
   "id": "6d05cec5",
   "metadata": {},
   "outputs": [],
   "source": [
    "def readfile(filename):\n",
    "    f = open(filename)\n",
    "    sl = list(SeqIO.parse(f, 'fasta'))\n",
    "    ids = []\n",
    "    seqs = []\n",
    "    for s in sl:\n",
    "        id = s.id\n",
    "        seq = str(s.seq)\n",
    "        ids.append(id)\n",
    "        seqs.append(seq.upper())\n",
    "\n",
    "    return ids, seqs"
   ]
  },
  {
   "cell_type": "markdown",
   "id": "9a42ef7f",
   "metadata": {},
   "source": [
    "# 1.Orf"
   ]
  },
  {
   "cell_type": "code",
   "execution_count": 2,
   "id": "d19a3738",
   "metadata": {},
   "outputs": [],
   "source": [
    "sequences = [(str([rec.id]) , str(rec.seq)) for rec in SeqIO.parse(\"test.fa\", \"fasta\")]"
   ]
  },
  {
   "cell_type": "code",
   "execution_count": 3,
   "id": "550d2da6",
   "metadata": {},
   "outputs": [
    {
     "data": {
      "text/plain": [
       "[(\"['snce_1']\", 'ATGCTGCTGCTCGTCGTC'),\n",
       " (\"['sequence_2']\", 'TTTATATATAAGTGTAGTAGA'),\n",
       " (\"['sequence_3']\", 'GGGCGCGCGAGATAATATATTAT'),\n",
       " (\"['3']\",\n",
       "  'CGCTACGTCTTACGCTGGAGCTCTCATGGATCGGTTCGGTAGGGCTCGATCACATCGCTAGCCAT'),\n",
       " (\"['realone']\",\n",
       "  'GTTAACTTGCCGTCAGCCTTTTCTTTGACCTCTTCTTTCTGTTCATGTGTATTTGCTGTCTCTTAGCCCAGACTTCCCGTGTCCTTTCCACCGGGCCTTTGAGAGGTCACAGGGTCTTGATGCTGTGGTCTTCATCTGCAGGTGTCTGACTTCCAGCAACTGCTGGCCTGTGCCAGGGTGCAAGCTGAGCACTGGAGTGGAGTTTTCCTGTGGAGAGGAGCCATGCCTAGAGTGGGATGGGCCATTGTTCATCTTCTGGCCCCTGTTGTCTGCATGTAACTTAATACCACAACCAGGCATAGGGGAAAGATTGGAGGAAAGATGAGTGAGAGCATCAACTTCTCTCACAACCTAGGCCAGTGTGTGGTGATGCCAGGCATGCCCTTCCCCAGCATCAGGTCTCCAGAGCTGCAGAAGACGACGGCCGACTTGGATCACACTCTTGTGAGTGTCCCCAGTGTTGCAGAGGCAGGGCCATCAGGCACCAAAGGGATTCTGCCAGCATAGTGCTCCTGGACCAGTGATACACCCGGCACCCTGTCCTGGACACGCTGTTGGCCTGGATCTGAGCCCTGGTGGAGGTCAAAGCCACCTTTGGTTCTGCCATTGCTGCTGTGTGGAAGTTCACTCCTGCCTTTTCCTTTCCCTAGAGCCTCCACCACCCCGAGATCACATTTCTCACTGCCTTTTGTCTGCCCAGTTTCACCAGAAGTAGGCCTCTTCCTGACAGGCAGCTGCACCACTGCCTGGCGCTGTGCCCTTCCTTTGCTCTGCCCGCTGGAGACGGTGTTTGTCATGGGCCTGGTCTGCAGGGATCCTGCTACAAAGGTGAAACCCAGGAGAGTGTGGAGTCCAGAGTGTTGCCAGGACCCAGGCACAGGCATTAGTGCCCGTTGGAGAAAACAGGGGAATCCCGAAGAAATGGTGGGTCCTGGCCATCCGTGAGATCTTCCCAGGGCAGCTCCCCTCTGTGGAATCCAATCTGTCTTCCATCCTGCGTGGCCGAGGGCCAGGCTTCTCACTGGGCCTCTGCAGGAGGCTGCCATTTGTCCTGCCCACCTTCTTAGAAGCGAGACGGAGCAGACCCATCTGCTACTGCCCTTTCTATAATAACTAAAGTTAGCTGCCCTGGACTATTCACCCCCTAGTCTCAATTTAAGAAGATCCCCATGGCCACAGGGCCCCTGCCTGGGGGCTTGTCACCTCCCCCACCTTCTTCCTGAGTCATTCCTGCAGCCTTGCTCCCTAACCTGCCCCACAGCCTTGCCTGGATTTCTATCTCCCTGGCTTGGTGCCAGTTCCTCCAAGTCGATGGCACCTCCCTCCCTCTCAACCACTTGAGCAAACTCCAAGACATCTTCTACCCCAACACCAGCAATTGTGCCAAGGGCCATTAGGCTCTCAGCATGACTATTTTTAGAGACCCCGTGTCTGTCACTGAAACCTTTTTTGTGGGAGACTATTCCTCCCATCTGCAACAGCTGCCCCTGCTGACTGCCCTTCTCTCCTCCCTCTCATCCCAGAGAAACAGGTCAGCTGGGAGCTTCTGCCCCCACTGCCTAGGGACCAACAGGGGCAGGAGGCAGTCACTGACCCCGAGACGTTTGCATCCTGCACAGCTAGAGATCCTTTATTAAAAGCACACTGTTGGTTTCTG')]"
      ]
     },
     "execution_count": 3,
     "metadata": {},
     "output_type": "execute_result"
    }
   ],
   "source": [
    "sequences\n",
    "    "
   ]
  },
  {
   "cell_type": "code",
   "execution_count": 216,
   "id": "2f2166f5",
   "metadata": {},
   "outputs": [],
   "source": [
    "def condon_six_set(sequences):\n",
    "    listOfOrf = list()\n",
    "    for index, value in enumerate(sequences):  # looping over the fragments extracted\n",
    "        frames = [] # storing the six frame translation that it zould be extacted from the fragments\n",
    "        dna = value[1]  # extract the fragment\n",
    "        description = value[0] #extact the desciption even were not use it, just for learning purpose\n",
    "        reverseCdna = [] # storing the reverse compliments\n",
    "        # create the positive frames\n",
    "        # split the frames into codons for better performance\n",
    "        frames.append([dna[i:i + 3] for i in range(0, len(dna), 3)])\n",
    "        frames.append([dna[i:i + 3] for i in range(1, len(dna), 3)])\n",
    "        frames.append([dna[i:i + 3] for i in range(2, len(dna), 3)])\n",
    "        # reverse compliment of the fragment\n",
    "        reverse = {\"A\": \"T\", \"C\": \"G\", \"T\": \"A\", \"G\": \"C\"}\n",
    "        for i in range(len(dna)):\n",
    "            reverseCdna.append(reverse[dna[-i - 1]]) if dna[-i - 1] in reverse.keys() else reverseCdna.append(dna[-i - 1])  # if any contamination found we keep it for further more check\n",
    "        reverseCdna = ''.join(reverseCdna) # joining\n",
    "        # create the negative frames\n",
    "        frames.append([reverseCdna[i:i + 3] for i in range(0, len(reverseCdna), 3)])\n",
    "        frames.append([reverseCdna[i:i + 3] for i in range(1, len(reverseCdna), 3)])\n",
    "        frames.append([reverseCdna[i:i + 3] for i in range(2, len(reverseCdna), 3)])\n",
    "    return frames\n",
    "    "
   ]
  },
  {
   "cell_type": "code",
   "execution_count": 217,
   "id": "93aca4ff",
   "metadata": {},
   "outputs": [],
   "source": [
    "def select_orf(frames):\n",
    "    for i in range(0,len(frames),1): #looping all the frames\n",
    "        start=0\n",
    "        while start <len(frames[i]): #looping each frame for start and stop codons\n",
    "            if frames[i][start]==\"ATG\" or frames[i][start]==\"TTG\" or frames[i][start]==\"CTG\" or frames[i][start]==\"GTG\":\n",
    "                for stop in range(start+1,len(frames[i]),1):\n",
    "                             if frames[i][stop]==\"TAA\" or  frames[i][stop]==\"TAG\" or  frames[i][stop]==\"TGA\" :\n",
    "                                    listOfOrf.append(frames[i][start:stop]) # retrieve the orf\n",
    "                                    start=stop+1 # avoiding multiple start codons\n",
    "                                    break\n",
    "            start+=1\n",
    "    return listOfOrf"
   ]
  },
  {
   "cell_type": "code",
   "execution_count": 218,
   "id": "b3ecc0e7",
   "metadata": {},
   "outputs": [],
   "source": [
    "def largest_orf(listOfOrf):\n",
    "    m,pos=0,0\n",
    "    for po,i in enumerate(listOfOrf):\n",
    "        if len(i)>m:\n",
    "            m=len(i)\n",
    "            pos=po\n",
    "    return listOfOrf[pos]"
   ]
  },
  {
   "cell_type": "code",
   "execution_count": 219,
   "id": "95c9c08b",
   "metadata": {},
   "outputs": [],
   "source": [
    "def orf_fun(sequences):\n",
    "    frames = condon_six_set(sequences)\n",
    "    listOfOrf = select_orf(frames)\n",
    "    orf=largest_orf(listOfOrf)\n",
    "    return orf,len(orf)"
   ]
  },
  {
   "cell_type": "code",
   "execution_count": null,
   "id": "38be3ada",
   "metadata": {},
   "outputs": [],
   "source": []
  },
  {
   "cell_type": "code",
   "execution_count": 220,
   "id": "0c8d7c1c",
   "metadata": {},
   "outputs": [],
   "source": [
    "Orf_value=orf_fun(sequences)\n"
   ]
  },
  {
   "cell_type": "code",
   "execution_count": 221,
   "id": "8b20ee7a",
   "metadata": {},
   "outputs": [
    {
     "data": {
      "text/plain": [
       "(['ATG',\n",
       "  'GCT',\n",
       "  'AGC',\n",
       "  'GAT',\n",
       "  'GTG',\n",
       "  'ATC',\n",
       "  'GAG',\n",
       "  'CCC',\n",
       "  'TAC',\n",
       "  'CGA',\n",
       "  'ACC',\n",
       "  'GAT',\n",
       "  'CCA'],\n",
       " 13)"
      ]
     },
     "execution_count": 221,
     "metadata": {},
     "output_type": "execute_result"
    }
   ],
   "source": [
    "p"
   ]
  },
  {
   "cell_type": "code",
   "execution_count": null,
   "id": "3d8ef57d",
   "metadata": {},
   "outputs": [],
   "source": []
  },
  {
   "cell_type": "code",
   "execution_count": null,
   "id": "3ec5910e",
   "metadata": {},
   "outputs": [],
   "source": []
  },
  {
   "cell_type": "code",
   "execution_count": 213,
   "id": "14dfaf33",
   "metadata": {},
   "outputs": [
    {
     "name": "stdout",
     "output_type": "stream",
     "text": [
      "ATGCTGCTGCTCGTCGTC\n",
      "['ATG', 'GCA', 'GCC', 'TCC', 'TGC', 'AGA', 'GGC', 'CCA', 'GTG', 'AGA', 'AGC', 'CTG', 'GCC', 'CTC', 'GGC', 'CAC', 'GCA', 'GGA', 'TGG', 'AAG', 'ACA', 'GAT', 'TGG', 'ATT', 'CCA', 'CAG', 'AGG', 'GGA', 'GCT', 'GCC', 'CTG', 'GGA', 'AGA', 'TCT', 'CAC', 'GGA', 'TGG', 'CCA', 'GGA', 'CCC', 'ACC', 'ATT', 'TCT', 'TCG', 'GGA', 'TTC', 'CCC', 'TGT', 'TTT', 'CTC', 'CAA', 'CGG', 'GCA', 'CTA', 'ATG', 'CCT', 'GTG', 'CCT', 'GGG', 'TCC', 'TGG', 'CAA', 'CAC', 'TCT', 'GGA', 'CTC', 'CAC', 'ACT', 'CTC', 'CTG', 'GGT', 'TTC', 'ACC', 'TTT', 'GTA', 'GCA', 'GGA', 'TCC', 'CTG', 'CAG', 'ACC', 'AGG', 'CCC', 'ATG', 'ACA', 'AAC', 'ACC', 'GTC', 'TCC', 'AGC', 'GGG', 'CAG', 'AGC', 'AAA', 'GGA', 'AGG', 'GCA', 'CAG', 'CGC', 'CAG', 'GCA', 'GTG', 'GTG', 'CAG', 'CTG', 'CCT', 'GTC', 'AGG', 'AAG', 'AGG', 'CCT', 'ACT', 'TCT', 'GGT', 'GAA', 'ACT', 'GGG', 'CAG', 'ACA', 'AAA', 'GGC', 'AGT', 'GAG', 'AAA', 'TGT', 'GAT', 'CTC', 'GGG', 'GTG', 'GTG', 'GAG', 'GCT', 'CTA', 'GGG', 'AAA', 'GGA', 'AAA', 'GGC', 'AGG', 'AGT', 'GAA', 'CTT', 'CCA', 'CAC', 'AGC', 'AGC', 'AAT', 'GGC', 'AGA', 'ACC', 'AAA', 'GGT', 'GGC', 'TTT', 'GAC', 'CTC', 'CAC', 'CAG', 'GGC', 'TCA', 'GAT', 'CCA', 'GGC', 'CAA', 'CAG', 'CGT', 'GTC', 'CAG', 'GAC', 'AGG', 'GTG', 'CCG', 'GGT', 'GTA', 'TCA', 'CTG', 'GTC', 'CAG', 'GAG', 'CAC', 'TAT', 'GCT', 'GGC', 'AGA', 'ATC', 'CCT', 'TTG', 'GTG', 'CCT', 'GAT', 'GGC', 'CCT', 'GCC', 'TCT', 'GCA', 'ACA', 'CTG', 'GGG', 'ACA', 'CTC', 'ACA', 'AGA', 'GTG'] \n",
      "-----------\n",
      "\n",
      "TTTATATATAAGTGTAGTAGA\n",
      "['ATG', 'GCA', 'GCC', 'TCC', 'TGC', 'AGA', 'GGC', 'CCA', 'GTG', 'AGA', 'AGC', 'CTG', 'GCC', 'CTC', 'GGC', 'CAC', 'GCA', 'GGA', 'TGG', 'AAG', 'ACA', 'GAT', 'TGG', 'ATT', 'CCA', 'CAG', 'AGG', 'GGA', 'GCT', 'GCC', 'CTG', 'GGA', 'AGA', 'TCT', 'CAC', 'GGA', 'TGG', 'CCA', 'GGA', 'CCC', 'ACC', 'ATT', 'TCT', 'TCG', 'GGA', 'TTC', 'CCC', 'TGT', 'TTT', 'CTC', 'CAA', 'CGG', 'GCA', 'CTA', 'ATG', 'CCT', 'GTG', 'CCT', 'GGG', 'TCC', 'TGG', 'CAA', 'CAC', 'TCT', 'GGA', 'CTC', 'CAC', 'ACT', 'CTC', 'CTG', 'GGT', 'TTC', 'ACC', 'TTT', 'GTA', 'GCA', 'GGA', 'TCC', 'CTG', 'CAG', 'ACC', 'AGG', 'CCC', 'ATG', 'ACA', 'AAC', 'ACC', 'GTC', 'TCC', 'AGC', 'GGG', 'CAG', 'AGC', 'AAA', 'GGA', 'AGG', 'GCA', 'CAG', 'CGC', 'CAG', 'GCA', 'GTG', 'GTG', 'CAG', 'CTG', 'CCT', 'GTC', 'AGG', 'AAG', 'AGG', 'CCT', 'ACT', 'TCT', 'GGT', 'GAA', 'ACT', 'GGG', 'CAG', 'ACA', 'AAA', 'GGC', 'AGT', 'GAG', 'AAA', 'TGT', 'GAT', 'CTC', 'GGG', 'GTG', 'GTG', 'GAG', 'GCT', 'CTA', 'GGG', 'AAA', 'GGA', 'AAA', 'GGC', 'AGG', 'AGT', 'GAA', 'CTT', 'CCA', 'CAC', 'AGC', 'AGC', 'AAT', 'GGC', 'AGA', 'ACC', 'AAA', 'GGT', 'GGC', 'TTT', 'GAC', 'CTC', 'CAC', 'CAG', 'GGC', 'TCA', 'GAT', 'CCA', 'GGC', 'CAA', 'CAG', 'CGT', 'GTC', 'CAG', 'GAC', 'AGG', 'GTG', 'CCG', 'GGT', 'GTA', 'TCA', 'CTG', 'GTC', 'CAG', 'GAG', 'CAC', 'TAT', 'GCT', 'GGC', 'AGA', 'ATC', 'CCT', 'TTG', 'GTG', 'CCT', 'GAT', 'GGC', 'CCT', 'GCC', 'TCT', 'GCA', 'ACA', 'CTG', 'GGG', 'ACA', 'CTC', 'ACA', 'AGA', 'GTG'] \n",
      "-----------\n",
      "\n",
      "GGGCGCGCGAGATAATATATTAT\n",
      "['ATG', 'GCA', 'GCC', 'TCC', 'TGC', 'AGA', 'GGC', 'CCA', 'GTG', 'AGA', 'AGC', 'CTG', 'GCC', 'CTC', 'GGC', 'CAC', 'GCA', 'GGA', 'TGG', 'AAG', 'ACA', 'GAT', 'TGG', 'ATT', 'CCA', 'CAG', 'AGG', 'GGA', 'GCT', 'GCC', 'CTG', 'GGA', 'AGA', 'TCT', 'CAC', 'GGA', 'TGG', 'CCA', 'GGA', 'CCC', 'ACC', 'ATT', 'TCT', 'TCG', 'GGA', 'TTC', 'CCC', 'TGT', 'TTT', 'CTC', 'CAA', 'CGG', 'GCA', 'CTA', 'ATG', 'CCT', 'GTG', 'CCT', 'GGG', 'TCC', 'TGG', 'CAA', 'CAC', 'TCT', 'GGA', 'CTC', 'CAC', 'ACT', 'CTC', 'CTG', 'GGT', 'TTC', 'ACC', 'TTT', 'GTA', 'GCA', 'GGA', 'TCC', 'CTG', 'CAG', 'ACC', 'AGG', 'CCC', 'ATG', 'ACA', 'AAC', 'ACC', 'GTC', 'TCC', 'AGC', 'GGG', 'CAG', 'AGC', 'AAA', 'GGA', 'AGG', 'GCA', 'CAG', 'CGC', 'CAG', 'GCA', 'GTG', 'GTG', 'CAG', 'CTG', 'CCT', 'GTC', 'AGG', 'AAG', 'AGG', 'CCT', 'ACT', 'TCT', 'GGT', 'GAA', 'ACT', 'GGG', 'CAG', 'ACA', 'AAA', 'GGC', 'AGT', 'GAG', 'AAA', 'TGT', 'GAT', 'CTC', 'GGG', 'GTG', 'GTG', 'GAG', 'GCT', 'CTA', 'GGG', 'AAA', 'GGA', 'AAA', 'GGC', 'AGG', 'AGT', 'GAA', 'CTT', 'CCA', 'CAC', 'AGC', 'AGC', 'AAT', 'GGC', 'AGA', 'ACC', 'AAA', 'GGT', 'GGC', 'TTT', 'GAC', 'CTC', 'CAC', 'CAG', 'GGC', 'TCA', 'GAT', 'CCA', 'GGC', 'CAA', 'CAG', 'CGT', 'GTC', 'CAG', 'GAC', 'AGG', 'GTG', 'CCG', 'GGT', 'GTA', 'TCA', 'CTG', 'GTC', 'CAG', 'GAG', 'CAC', 'TAT', 'GCT', 'GGC', 'AGA', 'ATC', 'CCT', 'TTG', 'GTG', 'CCT', 'GAT', 'GGC', 'CCT', 'GCC', 'TCT', 'GCA', 'ACA', 'CTG', 'GGG', 'ACA', 'CTC', 'ACA', 'AGA', 'GTG'] \n",
      "-----------\n",
      "\n",
      "CGCTACGTCTTACGCTGGAGCTCTCATGGATCGGTTCGGTAGGGCTCGATCACATCGCTAGCCAT\n",
      "['ATG', 'GCA', 'GCC', 'TCC', 'TGC', 'AGA', 'GGC', 'CCA', 'GTG', 'AGA', 'AGC', 'CTG', 'GCC', 'CTC', 'GGC', 'CAC', 'GCA', 'GGA', 'TGG', 'AAG', 'ACA', 'GAT', 'TGG', 'ATT', 'CCA', 'CAG', 'AGG', 'GGA', 'GCT', 'GCC', 'CTG', 'GGA', 'AGA', 'TCT', 'CAC', 'GGA', 'TGG', 'CCA', 'GGA', 'CCC', 'ACC', 'ATT', 'TCT', 'TCG', 'GGA', 'TTC', 'CCC', 'TGT', 'TTT', 'CTC', 'CAA', 'CGG', 'GCA', 'CTA', 'ATG', 'CCT', 'GTG', 'CCT', 'GGG', 'TCC', 'TGG', 'CAA', 'CAC', 'TCT', 'GGA', 'CTC', 'CAC', 'ACT', 'CTC', 'CTG', 'GGT', 'TTC', 'ACC', 'TTT', 'GTA', 'GCA', 'GGA', 'TCC', 'CTG', 'CAG', 'ACC', 'AGG', 'CCC', 'ATG', 'ACA', 'AAC', 'ACC', 'GTC', 'TCC', 'AGC', 'GGG', 'CAG', 'AGC', 'AAA', 'GGA', 'AGG', 'GCA', 'CAG', 'CGC', 'CAG', 'GCA', 'GTG', 'GTG', 'CAG', 'CTG', 'CCT', 'GTC', 'AGG', 'AAG', 'AGG', 'CCT', 'ACT', 'TCT', 'GGT', 'GAA', 'ACT', 'GGG', 'CAG', 'ACA', 'AAA', 'GGC', 'AGT', 'GAG', 'AAA', 'TGT', 'GAT', 'CTC', 'GGG', 'GTG', 'GTG', 'GAG', 'GCT', 'CTA', 'GGG', 'AAA', 'GGA', 'AAA', 'GGC', 'AGG', 'AGT', 'GAA', 'CTT', 'CCA', 'CAC', 'AGC', 'AGC', 'AAT', 'GGC', 'AGA', 'ACC', 'AAA', 'GGT', 'GGC', 'TTT', 'GAC', 'CTC', 'CAC', 'CAG', 'GGC', 'TCA', 'GAT', 'CCA', 'GGC', 'CAA', 'CAG', 'CGT', 'GTC', 'CAG', 'GAC', 'AGG', 'GTG', 'CCG', 'GGT', 'GTA', 'TCA', 'CTG', 'GTC', 'CAG', 'GAG', 'CAC', 'TAT', 'GCT', 'GGC', 'AGA', 'ATC', 'CCT', 'TTG', 'GTG', 'CCT', 'GAT', 'GGC', 'CCT', 'GCC', 'TCT', 'GCA', 'ACA', 'CTG', 'GGG', 'ACA', 'CTC', 'ACA', 'AGA', 'GTG'] \n",
      "-----------\n",
      "\n",
      "GTTAACTTGCCGTCAGCCTTTTCTTTGACCTCTTCTTTCTGTTCATGTGTATTTGCTGTCTCTTAGCCCAGACTTCCCGTGTCCTTTCCACCGGGCCTTTGAGAGGTCACAGGGTCTTGATGCTGTGGTCTTCATCTGCAGGTGTCTGACTTCCAGCAACTGCTGGCCTGTGCCAGGGTGCAAGCTGAGCACTGGAGTGGAGTTTTCCTGTGGAGAGGAGCCATGCCTAGAGTGGGATGGGCCATTGTTCATCTTCTGGCCCCTGTTGTCTGCATGTAACTTAATACCACAACCAGGCATAGGGGAAAGATTGGAGGAAAGATGAGTGAGAGCATCAACTTCTCTCACAACCTAGGCCAGTGTGTGGTGATGCCAGGCATGCCCTTCCCCAGCATCAGGTCTCCAGAGCTGCAGAAGACGACGGCCGACTTGGATCACACTCTTGTGAGTGTCCCCAGTGTTGCAGAGGCAGGGCCATCAGGCACCAAAGGGATTCTGCCAGCATAGTGCTCCTGGACCAGTGATACACCCGGCACCCTGTCCTGGACACGCTGTTGGCCTGGATCTGAGCCCTGGTGGAGGTCAAAGCCACCTTTGGTTCTGCCATTGCTGCTGTGTGGAAGTTCACTCCTGCCTTTTCCTTTCCCTAGAGCCTCCACCACCCCGAGATCACATTTCTCACTGCCTTTTGTCTGCCCAGTTTCACCAGAAGTAGGCCTCTTCCTGACAGGCAGCTGCACCACTGCCTGGCGCTGTGCCCTTCCTTTGCTCTGCCCGCTGGAGACGGTGTTTGTCATGGGCCTGGTCTGCAGGGATCCTGCTACAAAGGTGAAACCCAGGAGAGTGTGGAGTCCAGAGTGTTGCCAGGACCCAGGCACAGGCATTAGTGCCCGTTGGAGAAAACAGGGGAATCCCGAAGAAATGGTGGGTCCTGGCCATCCGTGAGATCTTCCCAGGGCAGCTCCCCTCTGTGGAATCCAATCTGTCTTCCATCCTGCGTGGCCGAGGGCCAGGCTTCTCACTGGGCCTCTGCAGGAGGCTGCCATTTGTCCTGCCCACCTTCTTAGAAGCGAGACGGAGCAGACCCATCTGCTACTGCCCTTTCTATAATAACTAAAGTTAGCTGCCCTGGACTATTCACCCCCTAGTCTCAATTTAAGAAGATCCCCATGGCCACAGGGCCCCTGCCTGGGGGCTTGTCACCTCCCCCACCTTCTTCCTGAGTCATTCCTGCAGCCTTGCTCCCTAACCTGCCCCACAGCCTTGCCTGGATTTCTATCTCCCTGGCTTGGTGCCAGTTCCTCCAAGTCGATGGCACCTCCCTCCCTCTCAACCACTTGAGCAAACTCCAAGACATCTTCTACCCCAACACCAGCAATTGTGCCAAGGGCCATTAGGCTCTCAGCATGACTATTTTTAGAGACCCCGTGTCTGTCACTGAAACCTTTTTTGTGGGAGACTATTCCTCCCATCTGCAACAGCTGCCCCTGCTGACTGCCCTTCTCTCCTCCCTCTCATCCCAGAGAAACAGGTCAGCTGGGAGCTTCTGCCCCCACTGCCTAGGGACCAACAGGGGCAGGAGGCAGTCACTGACCCCGAGACGTTTGCATCCTGCACAGCTAGAGATCCTTTATTAAAAGCACACTGTTGGTTTCTG\n",
      "['ATG', 'GCA', 'GCC', 'TCC', 'TGC', 'AGA', 'GGC', 'CCA', 'GTG', 'AGA', 'AGC', 'CTG', 'GCC', 'CTC', 'GGC', 'CAC', 'GCA', 'GGA', 'TGG', 'AAG', 'ACA', 'GAT', 'TGG', 'ATT', 'CCA', 'CAG', 'AGG', 'GGA', 'GCT', 'GCC', 'CTG', 'GGA', 'AGA', 'TCT', 'CAC', 'GGA', 'TGG', 'CCA', 'GGA', 'CCC', 'ACC', 'ATT', 'TCT', 'TCG', 'GGA', 'TTC', 'CCC', 'TGT', 'TTT', 'CTC', 'CAA', 'CGG', 'GCA', 'CTA', 'ATG', 'CCT', 'GTG', 'CCT', 'GGG', 'TCC', 'TGG', 'CAA', 'CAC', 'TCT', 'GGA', 'CTC', 'CAC', 'ACT', 'CTC', 'CTG', 'GGT', 'TTC', 'ACC', 'TTT', 'GTA', 'GCA', 'GGA', 'TCC', 'CTG', 'CAG', 'ACC', 'AGG', 'CCC', 'ATG', 'ACA', 'AAC', 'ACC', 'GTC', 'TCC', 'AGC', 'GGG', 'CAG', 'AGC', 'AAA', 'GGA', 'AGG', 'GCA', 'CAG', 'CGC', 'CAG', 'GCA', 'GTG', 'GTG', 'CAG', 'CTG', 'CCT', 'GTC', 'AGG', 'AAG', 'AGG', 'CCT', 'ACT', 'TCT', 'GGT', 'GAA', 'ACT', 'GGG', 'CAG', 'ACA', 'AAA', 'GGC', 'AGT', 'GAG', 'AAA', 'TGT', 'GAT', 'CTC', 'GGG', 'GTG', 'GTG', 'GAG', 'GCT', 'CTA', 'GGG', 'AAA', 'GGA', 'AAA', 'GGC', 'AGG', 'AGT', 'GAA', 'CTT', 'CCA', 'CAC', 'AGC', 'AGC', 'AAT', 'GGC', 'AGA', 'ACC', 'AAA', 'GGT', 'GGC', 'TTT', 'GAC', 'CTC', 'CAC', 'CAG', 'GGC', 'TCA', 'GAT', 'CCA', 'GGC', 'CAA', 'CAG', 'CGT', 'GTC', 'CAG', 'GAC', 'AGG', 'GTG', 'CCG', 'GGT', 'GTA', 'TCA', 'CTG', 'GTC', 'CAG', 'GAG', 'CAC', 'TAT', 'GCT', 'GGC', 'AGA', 'ATC', 'CCT', 'TTG', 'GTG', 'CCT', 'GAT', 'GGC', 'CCT', 'GCC', 'TCT', 'GCA', 'ACA', 'CTG', 'GGG', 'ACA', 'CTC', 'ACA', 'AGA', 'GTG'] \n",
      "-----------\n",
      "\n"
     ]
    }
   ],
   "source": [
    "for rec in SeqIO.parse(\"test.fa\", \"fasta\"):\n",
    "    eg,_=orf_fun([(str([rec.id]) , str(rec.seq))])\n",
    "    print(rec.seq)\n",
    "    print(eg,\"\\n-----------\\n\")"
   ]
  },
  {
   "cell_type": "code",
   "execution_count": null,
   "id": "7733860e",
   "metadata": {},
   "outputs": [],
   "source": []
  },
  {
   "cell_type": "code",
   "execution_count": null,
   "id": "f7a6f64a",
   "metadata": {},
   "outputs": [],
   "source": []
  },
  {
   "cell_type": "code",
   "execution_count": null,
   "id": "dd465f3d",
   "metadata": {},
   "outputs": [],
   "source": []
  },
  {
   "cell_type": "code",
   "execution_count": null,
   "id": "86af416e",
   "metadata": {},
   "outputs": [],
   "source": []
  },
  {
   "cell_type": "code",
   "execution_count": null,
   "id": "18857898",
   "metadata": {},
   "outputs": [],
   "source": []
  },
  {
   "cell_type": "code",
   "execution_count": null,
   "id": "98460040",
   "metadata": {},
   "outputs": [],
   "source": []
  },
  {
   "cell_type": "code",
   "execution_count": null,
   "id": "40faaf01",
   "metadata": {},
   "outputs": [],
   "source": []
  },
  {
   "cell_type": "code",
   "execution_count": null,
   "id": "eedf3c1d",
   "metadata": {},
   "outputs": [],
   "source": []
  },
  {
   "cell_type": "code",
   "execution_count": null,
   "id": "d9dac04c",
   "metadata": {},
   "outputs": [],
   "source": []
  },
  {
   "cell_type": "code",
   "execution_count": null,
   "id": "12953eeb",
   "metadata": {},
   "outputs": [],
   "source": []
  },
  {
   "cell_type": "code",
   "execution_count": null,
   "id": "8b27c816",
   "metadata": {},
   "outputs": [],
   "source": []
  },
  {
   "cell_type": "code",
   "execution_count": null,
   "id": "8bd70a19",
   "metadata": {},
   "outputs": [],
   "source": []
  },
  {
   "cell_type": "code",
   "execution_count": null,
   "id": "18dd8af2",
   "metadata": {},
   "outputs": [],
   "source": []
  },
  {
   "cell_type": "code",
   "execution_count": null,
   "id": "d7d3f36a",
   "metadata": {},
   "outputs": [],
   "source": []
  },
  {
   "cell_type": "markdown",
   "id": "8eb9794d",
   "metadata": {},
   "source": [
    "# 3.G-C content"
   ]
  },
  {
   "cell_type": "code",
   "execution_count": 1,
   "id": "0aadf41e",
   "metadata": {},
   "outputs": [],
   "source": [
    "from Bio.SeqUtils.ProtParam import ProteinAnalysis"
   ]
  },
  {
   "cell_type": "code",
   "execution_count": 13,
   "id": "b5123494",
   "metadata": {},
   "outputs": [],
   "source": [
    "arr_mw=[0]\n",
    "arr_A=[]\n",
    "arr_C=[]\n",
    "arr_G=[]\n",
    "arr_T=[]\n",
    "arr_GC=[]"
   ]
  },
  {
   "cell_type": "code",
   "execution_count": 16,
   "id": "864095d5",
   "metadata": {},
   "outputs": [
    {
     "name": "stdout",
     "output_type": "stream",
     "text": [
      "arr_mw [0, 1599.8305000000003, 1724.7788, 1830.9718000000003, 5505.277000000002, 141003.24780000132]\n",
      "arr_A [1, 8, 7, 11, 320]\n",
      "arr_C [6, 0, 3, 19, 509]\n",
      "arr_G [5, 4, 7, 18, 408]\n",
      "arr_T [6, 9, 6, 17, 420]\n",
      "arr_GC [38.88888888888889, 80.95238095238095, 56.52173913043478, 43.07692307692308, 44.65902232951117]\n"
     ]
    }
   ],
   "source": [
    "# arr_A.append(1) \n",
    "print(\"arr_mw\",arr_mw)\n",
    "print(\"arr_A\",arr_A)\n",
    "print(\"arr_C\",arr_C)\n",
    "print(\"arr_G\",arr_G)\n",
    "print(\"arr_T\",arr_T)\n",
    "print(\"arr_GC\",arr_GC)"
   ]
  },
  {
   "cell_type": "code",
   "execution_count": 10,
   "id": "c383647e",
   "metadata": {},
   "outputs": [
    {
     "name": "stdout",
     "output_type": "stream",
     "text": [
      "141003.24780000132\n",
      "141003.24780000132\n"
     ]
    },
    {
     "ename": "AttributeError",
     "evalue": "'NoneType' object has no attribute 'append'",
     "output_type": "error",
     "traceback": [
      "\u001b[0;31m---------------------------------------------------------------------------\u001b[0m",
      "\u001b[0;31mAttributeError\u001b[0m                            Traceback (most recent call last)",
      "\u001b[0;32m/tmp/ipykernel_17484/1856423138.py\u001b[0m in \u001b[0;36m<module>\u001b[0;34m\u001b[0m\n\u001b[1;32m      3\u001b[0m     \u001b[0mmw\u001b[0m\u001b[0;34m=\u001b[0m\u001b[0manalyse\u001b[0m\u001b[0;34m.\u001b[0m\u001b[0mmolecular_weight\u001b[0m\u001b[0;34m(\u001b[0m\u001b[0;34m)\u001b[0m\u001b[0;34m\u001b[0m\u001b[0;34m\u001b[0m\u001b[0m\n\u001b[1;32m      4\u001b[0m     \u001b[0mprint\u001b[0m\u001b[0;34m(\u001b[0m\u001b[0mmw\u001b[0m\u001b[0;34m)\u001b[0m\u001b[0;34m\u001b[0m\u001b[0;34m\u001b[0m\u001b[0m\n\u001b[0;32m----> 5\u001b[0;31m     \u001b[0marr_mw\u001b[0m \u001b[0;34m=\u001b[0m \u001b[0marr_mw\u001b[0m\u001b[0;34m.\u001b[0m\u001b[0mappend\u001b[0m\u001b[0;34m(\u001b[0m\u001b[0mint\u001b[0m\u001b[0;34m(\u001b[0m\u001b[0mmw\u001b[0m\u001b[0;34m)\u001b[0m\u001b[0;34m)\u001b[0m\u001b[0;34m\u001b[0m\u001b[0;34m\u001b[0m\u001b[0m\n\u001b[0m",
      "\u001b[0;31mAttributeError\u001b[0m: 'NoneType' object has no attribute 'append'"
     ]
    }
   ],
   "source": [
    "for record in SeqIO.parse(\"test.fa\", \"fasta\"):\n",
    "    analyse = ProteinAnalysis(my_seq)\n",
    "    mw=analyse.molecular_weight()\n",
    "    print(mw)\n",
    "    arr_mw = arr_mw.append(int(mw))"
   ]
  },
  {
   "cell_type": "code",
   "execution_count": 15,
   "id": "f1c3d5ea",
   "metadata": {},
   "outputs": [
    {
     "name": "stdout",
     "output_type": "stream",
     "text": [
      "Molecular weight :  1599.8305000000003\n",
      "Gravy :  0.5888888888888889\n",
      "A count : 1\n",
      "c count : 6\n",
      "g count : 5\n",
      "t count : 6\n",
      "GC : 38.88888888888889\n",
      "```````````````\n",
      "----------------------------\n",
      "Molecular weight :  1724.7788\n",
      "Gravy :  0.3095238095238095\n",
      "A count : 8\n",
      "c count : 0\n",
      "g count : 4\n",
      "t count : 9\n",
      "GC : 80.95238095238095\n",
      "```````````````\n",
      "----------------------------\n",
      "Molecular weight :  1830.9718000000003\n",
      "Gravy :  0.5695652173913046\n",
      "A count : 7\n",
      "c count : 3\n",
      "g count : 7\n",
      "t count : 6\n",
      "GC : 56.52173913043478\n",
      "```````````````\n",
      "----------------------------\n",
      "Molecular weight :  5505.277000000002\n",
      "Gravy :  0.7415384615384617\n",
      "A count : 11\n",
      "c count : 19\n",
      "g count : 18\n",
      "t count : 17\n",
      "GC : 43.07692307692308\n",
      "```````````````\n",
      "----------------------------\n",
      "Molecular weight :  141003.24780000132\n",
      "Gravy :  0.8396499698249732\n",
      "A count : 320\n",
      "c count : 509\n",
      "g count : 408\n",
      "t count : 420\n",
      "GC : 44.65902232951117\n",
      "```````````````\n",
      "----------------------------\n"
     ]
    }
   ],
   "source": [
    "\n",
    "\n",
    "\n",
    "\n",
    "\n",
    "\n",
    "for record in SeqIO.parse(\"test.fa\", \"fasta\"):\n",
    "    my_seq = str(record.seq)\n",
    "    analyse = ProteinAnalysis(my_seq)\n",
    "    mw=analyse.molecular_weight()\n",
    "    A=analyse.count_amino_acids()['A']\n",
    "    C=analyse.count_amino_acids()['C']\n",
    "    G=analyse.count_amino_acids()['G']\n",
    "    T=analyse.count_amino_acids()['T']\n",
    "    GC=(A+T)/(A+T+G+C)*100\n",
    "    \n",
    "#     all array\n",
    "    \n",
    "    arr_mw.append(mw)\n",
    "    arr_A.append(A)\n",
    "    arr_C.append(C)\n",
    "    arr_G.append(G)\n",
    "    arr_T.append(T)\n",
    "    arr_GC.append(GC)\n",
    "    \n",
    "    \n",
    "    print(\"Molecular weight : \",mw)\n",
    "    print(\"Gravy : \",analyse.gravy())\n",
    "    print(\"A count :\",A)\n",
    "    print(\"c count :\",C)\n",
    "    print(\"g count :\",G)\n",
    "    print(\"t count :\",T)\n",
    "    print(\"GC :\",GC)\n",
    "    print(\"```````````````\")\n",
    "    \n",
    "    \n",
    "    \n",
    "    \n",
    "    \n",
    "    \n",
    "    \n",
    "    \n",
    "    \n",
    "    \n",
    "#     print(\"atomacity : \",analyse.aromaticity())\n",
    "#     print(\"instability_index() : \",analyse.instability_index())\n",
    "#     print(\"flexibility() : \",analyse.flexibility())\n",
    "#     print(\"isoelectric_point() : \",analyse.isoelectric_point())\n",
    "#     print(\"molar_extinction_coefficient() : \",analyse.molar_extinction_coefficient())\n",
    "#     print(\"```````````````\")\n",
    "    print(\"----------------------------\")"
   ]
  },
  {
   "cell_type": "code",
   "execution_count": 22,
   "id": "6973c801",
   "metadata": {},
   "outputs": [
    {
     "data": {
      "text/plain": [
       "[[0,\n",
       "  1599.8305000000003,\n",
       "  1724.7788,\n",
       "  1830.9718000000003,\n",
       "  5505.277000000002,\n",
       "  141003.24780000132],\n",
       " [1, 8, 7, 11, 320],\n",
       " [6, 0, 3, 19, 509],\n",
       " [5, 4, 7, 18, 408],\n",
       " [6, 9, 6, 17, 420],\n",
       " [38.88888888888889,\n",
       "  80.95238095238095,\n",
       "  56.52173913043478,\n",
       "  43.07692307692308,\n",
       "  44.65902232951117]]"
      ]
     },
     "execution_count": 22,
     "metadata": {},
     "output_type": "execute_result"
    }
   ],
   "source": [
    "dataset"
   ]
  },
  {
   "cell_type": "code",
   "execution_count": 26,
   "id": "1d9b4557",
   "metadata": {},
   "outputs": [],
   "source": [
    "dataset = [\n",
    "arr_A,\n",
    "arr_C,\n",
    "arr_G,\n",
    "arr_T]"
   ]
  },
  {
   "cell_type": "code",
   "execution_count": 27,
   "id": "112ee29c",
   "metadata": {},
   "outputs": [],
   "source": [
    "np_dataset = np.array(dataset)"
   ]
  },
  {
   "cell_type": "code",
   "execution_count": 28,
   "id": "5ecd6d09",
   "metadata": {},
   "outputs": [
    {
     "ename": "ValueError",
     "evalue": "Shape of passed values is (4, 5), indices imply (4, 4)",
     "output_type": "error",
     "traceback": [
      "\u001b[0;31m---------------------------------------------------------------------------\u001b[0m",
      "\u001b[0;31mValueError\u001b[0m                                Traceback (most recent call last)",
      "\u001b[0;32m/tmp/ipykernel_17484/4242566311.py\u001b[0m in \u001b[0;36m<module>\u001b[0;34m\u001b[0m\n\u001b[0;32m----> 1\u001b[0;31m \u001b[0mdf\u001b[0m \u001b[0;34m=\u001b[0m \u001b[0mpd\u001b[0m\u001b[0;34m.\u001b[0m\u001b[0mDataFrame\u001b[0m\u001b[0;34m(\u001b[0m\u001b[0mdata\u001b[0m\u001b[0;34m=\u001b[0m\u001b[0mnp_dataset\u001b[0m\u001b[0;34m,\u001b[0m \u001b[0mcolumns\u001b[0m\u001b[0;34m=\u001b[0m\u001b[0;34m[\u001b[0m\u001b[0;34m\"A\"\u001b[0m\u001b[0;34m,\u001b[0m \u001b[0;34m\"C\"\u001b[0m\u001b[0;34m,\u001b[0m\u001b[0;34m\"G\"\u001b[0m\u001b[0;34m,\u001b[0m\u001b[0;34m\"T\"\u001b[0m\u001b[0;34m]\u001b[0m\u001b[0;34m)\u001b[0m\u001b[0;34m\u001b[0m\u001b[0;34m\u001b[0m\u001b[0m\n\u001b[0m",
      "\u001b[0;32m~/anaconda3/lib/python3.9/site-packages/pandas/core/frame.py\u001b[0m in \u001b[0;36m__init__\u001b[0;34m(self, data, index, columns, dtype, copy)\u001b[0m\n\u001b[1;32m    692\u001b[0m                 )\n\u001b[1;32m    693\u001b[0m             \u001b[0;32melse\u001b[0m\u001b[0;34m:\u001b[0m\u001b[0;34m\u001b[0m\u001b[0;34m\u001b[0m\u001b[0m\n\u001b[0;32m--> 694\u001b[0;31m                 mgr = ndarray_to_mgr(\n\u001b[0m\u001b[1;32m    695\u001b[0m                     \u001b[0mdata\u001b[0m\u001b[0;34m,\u001b[0m\u001b[0;34m\u001b[0m\u001b[0;34m\u001b[0m\u001b[0m\n\u001b[1;32m    696\u001b[0m                     \u001b[0mindex\u001b[0m\u001b[0;34m,\u001b[0m\u001b[0;34m\u001b[0m\u001b[0;34m\u001b[0m\u001b[0m\n",
      "\u001b[0;32m~/anaconda3/lib/python3.9/site-packages/pandas/core/internals/construction.py\u001b[0m in \u001b[0;36mndarray_to_mgr\u001b[0;34m(values, index, columns, dtype, copy, typ)\u001b[0m\n\u001b[1;32m    349\u001b[0m     )\n\u001b[1;32m    350\u001b[0m \u001b[0;34m\u001b[0m\u001b[0m\n\u001b[0;32m--> 351\u001b[0;31m     \u001b[0m_check_values_indices_shape_match\u001b[0m\u001b[0;34m(\u001b[0m\u001b[0mvalues\u001b[0m\u001b[0;34m,\u001b[0m \u001b[0mindex\u001b[0m\u001b[0;34m,\u001b[0m \u001b[0mcolumns\u001b[0m\u001b[0;34m)\u001b[0m\u001b[0;34m\u001b[0m\u001b[0;34m\u001b[0m\u001b[0m\n\u001b[0m\u001b[1;32m    352\u001b[0m \u001b[0;34m\u001b[0m\u001b[0m\n\u001b[1;32m    353\u001b[0m     \u001b[0;32mif\u001b[0m \u001b[0mtyp\u001b[0m \u001b[0;34m==\u001b[0m \u001b[0;34m\"array\"\u001b[0m\u001b[0;34m:\u001b[0m\u001b[0;34m\u001b[0m\u001b[0;34m\u001b[0m\u001b[0m\n",
      "\u001b[0;32m~/anaconda3/lib/python3.9/site-packages/pandas/core/internals/construction.py\u001b[0m in \u001b[0;36m_check_values_indices_shape_match\u001b[0;34m(values, index, columns)\u001b[0m\n\u001b[1;32m    420\u001b[0m         \u001b[0mpassed\u001b[0m \u001b[0;34m=\u001b[0m \u001b[0mvalues\u001b[0m\u001b[0;34m.\u001b[0m\u001b[0mshape\u001b[0m\u001b[0;34m\u001b[0m\u001b[0;34m\u001b[0m\u001b[0m\n\u001b[1;32m    421\u001b[0m         \u001b[0mimplied\u001b[0m \u001b[0;34m=\u001b[0m \u001b[0;34m(\u001b[0m\u001b[0mlen\u001b[0m\u001b[0;34m(\u001b[0m\u001b[0mindex\u001b[0m\u001b[0;34m)\u001b[0m\u001b[0;34m,\u001b[0m \u001b[0mlen\u001b[0m\u001b[0;34m(\u001b[0m\u001b[0mcolumns\u001b[0m\u001b[0;34m)\u001b[0m\u001b[0;34m)\u001b[0m\u001b[0;34m\u001b[0m\u001b[0;34m\u001b[0m\u001b[0m\n\u001b[0;32m--> 422\u001b[0;31m         \u001b[0;32mraise\u001b[0m \u001b[0mValueError\u001b[0m\u001b[0;34m(\u001b[0m\u001b[0;34mf\"Shape of passed values is {passed}, indices imply {implied}\"\u001b[0m\u001b[0;34m)\u001b[0m\u001b[0;34m\u001b[0m\u001b[0;34m\u001b[0m\u001b[0m\n\u001b[0m\u001b[1;32m    423\u001b[0m \u001b[0;34m\u001b[0m\u001b[0m\n\u001b[1;32m    424\u001b[0m \u001b[0;34m\u001b[0m\u001b[0m\n",
      "\u001b[0;31mValueError\u001b[0m: Shape of passed values is (4, 5), indices imply (4, 4)"
     ]
    }
   ],
   "source": [
    "\n",
    "df = pd.DataFrame(data=np_dataset, columns=[\"A\", \"C\",\"G\",\"T\"])"
   ]
  },
  {
   "cell_type": "code",
   "execution_count": null,
   "id": "da9e5f1e",
   "metadata": {},
   "outputs": [],
   "source": []
  },
  {
   "cell_type": "code",
   "execution_count": null,
   "id": "3e18d1fe",
   "metadata": {},
   "outputs": [],
   "source": []
  },
  {
   "cell_type": "code",
   "execution_count": null,
   "id": "7dfa48fb",
   "metadata": {},
   "outputs": [],
   "source": []
  },
  {
   "cell_type": "code",
   "execution_count": null,
   "id": "5d3d7f6b",
   "metadata": {},
   "outputs": [],
   "source": []
  },
  {
   "cell_type": "code",
   "execution_count": 19,
   "id": "48c2ad3c",
   "metadata": {},
   "outputs": [],
   "source": [
    "import numpy as np\n",
    "import pandas as pd"
   ]
  },
  {
   "cell_type": "code",
   "execution_count": 128,
   "id": "c5b0b626",
   "metadata": {},
   "outputs": [
    {
     "name": "stdout",
     "output_type": "stream",
     "text": [
      "[[0, 1, 0], [0, 0, 0], [1, 3, 3], [2, 4, 4]]\n",
      "   column1  column2  column3\n",
      "0        0        1        0\n",
      "1        0        0        0\n",
      "2        1        3        3\n",
      "3        2        4        4\n"
     ]
    }
   ],
   "source": [
    "frame = [[0, 1, 0], [0, 0, 0], [1, 3, 3], [2, 4, 4]]\n",
    "numpy_data= np.array(frame)\n",
    "\n",
    "df = pd.DataFrame(data=numpy_data, columns=[\"column1\", \"column2\", \"column3\"])\n",
    "print(frame)\n",
    "print(df)"
   ]
  },
  {
   "cell_type": "code",
   "execution_count": null,
   "id": "1ec9da15",
   "metadata": {},
   "outputs": [],
   "source": []
  }
 ],
 "metadata": {
  "kernelspec": {
   "display_name": "Python 3 (ipykernel)",
   "language": "python",
   "name": "python3"
  },
  "language_info": {
   "codemirror_mode": {
    "name": "ipython",
    "version": 3
   },
   "file_extension": ".py",
   "mimetype": "text/x-python",
   "name": "python",
   "nbconvert_exporter": "python",
   "pygments_lexer": "ipython3",
   "version": "3.9.13"
  }
 },
 "nbformat": 4,
 "nbformat_minor": 5
}
